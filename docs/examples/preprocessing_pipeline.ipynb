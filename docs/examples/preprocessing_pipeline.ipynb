{
 "cells": [
  {
   "cell_type": "markdown",
   "metadata": {},
   "source": [
    "# Building and running a preprocessing pipeline\n",
    "\n",
    "In this example, an image processing pipeline is created and then executed in a manner that maximize throughput."
   ]
  },
  {
   "cell_type": "code",
   "execution_count": null,
   "metadata": {},
   "outputs": [],
   "source": [
    "from PIL import Image, ImageOps\n",
    "import seqtools"
   ]
  },
  {
   "cell_type": "code",
   "execution_count": null,
   "metadata": {},
   "outputs": [],
   "source": [
    "! [[ -f owl.jpg ]] || curl -s \"https://cdn.pixabay.com/photo/2017/04/07/01/05/owl-2209827_640.jpg\" -o owl.jpg\n",
    "! [[ -f rooster.jpg ]] || curl -s \"https://cdn.pixabay.com/photo/2018/08/26/14/05/hahn-3632299_640.jpg\" -o rooster.jpg\n",
    "! [[ -f duck.jpg ]] || curl -s \"https://cdn.pixabay.com/photo/2018/09/02/10/03/violet-duck-3648415_640.jpg\" -o duck.jpg\n",
    "! [[ -f bird.jpg ]] || curl -s \"https://cdn.pixabay.com/photo/2018/08/21/05/15/tit-3620632_640.jpg\" -o bird.jpg\n",
    "! [[ -f dog.jpg ]] || curl -s \"https://cdn.pixabay.com/photo/2018/09/04/18/07/pug-3654360_640.jpg\" -o dog.jpg\n",
    "! [[ -f hedgehog.jpg ]] || curl -s \"https://cdn.pixabay.com/photo/2018/09/04/18/52/hedgehog-3654434_640.jpg\" -o hedgehog.jpg"
   ]
  },
  {
   "cell_type": "markdown",
   "metadata": {},
   "source": [
    "## Initial data loading\n",
    "\n",
    "SeqTools works with list-like indexable objects, so the first step is to create one that maps to our samples, then this object will be passed to functions that apply the desired transformations.\n",
    "In this example, we represent our samples with their file names and store them in a list."
   ]
  },
  {
   "cell_type": "code",
   "execution_count": null,
   "metadata": {},
   "outputs": [],
   "source": [
    "labels = ['owl', 'rooster', 'duck', 'bird', 'dog', 'hedgehog']\n",
    "# We artificially increase the size of the dataset for the example\n",
    "labels = [labels[i % len(labels)] for i in range(200)]\n",
    "\n",
    "image_files = [l + '.jpg' for l in labels]"
   ]
  },
  {
   "cell_type": "markdown",
   "metadata": {},
   "source": [
    "Let's load the full resolution images, the result cannot normally fit into memory, but with SeqTools the evaluation is delayed until the images are actually accessed."
   ]
  },
  {
   "cell_type": "code",
   "execution_count": null,
   "metadata": {},
   "outputs": [],
   "source": [
    "raw_images = seqtools.smap(Image.open, image_files)"
   ]
  },
  {
   "cell_type": "markdown",
   "metadata": {},
   "source": [
    "We can verify the result for one sample, this will trigger its evaluation and return it:"
   ]
  },
  {
   "cell_type": "code",
   "execution_count": null,
   "metadata": {},
   "outputs": [],
   "source": [
    "raw_images[0]"
   ]
  },
  {
   "cell_type": "markdown",
   "metadata": {},
   "source": [
    "##  Mapping transformations\n",
    "\n",
    "As a first preprocessing stage, we can normalize the size:"
   ]
  },
  {
   "cell_type": "code",
   "execution_count": null,
   "metadata": {},
   "outputs": [],
   "source": [
    "def normalize_size(im):\n",
    "    w, h = im.size\n",
    "    left_crop = w // 2 - h // 2\n",
    "    return im.resize((200, 200), Image.BILINEAR, box=(left_crop, 1, h, h))\n",
    "\n",
    "small_images = seqtools.smap(normalize_size, raw_images)\n",
    "\n",
    "small_images[1]"
   ]
  },
  {
   "cell_type": "markdown",
   "metadata": {},
   "source": [
    "then apply common preprocessing steps:"
   ]
  },
  {
   "cell_type": "code",
   "execution_count": null,
   "metadata": {},
   "outputs": [],
   "source": [
    "contrasted = seqtools.smap(ImageOps.autocontrast, small_images)\n",
    "equalized = seqtools.smap(ImageOps.equalize, contrasted)\n",
    "grayscale = seqtools.smap(ImageOps.grayscale, equalized)\n",
    "\n",
    "grayscale[0]"
   ]
  },
  {
   "cell_type": "markdown",
   "metadata": {},
   "source": [
    "That preprocessing seems a bit over the top... let's check where it went wrong:"
   ]
  },
  {
   "cell_type": "code",
   "execution_count": null,
   "metadata": {},
   "outputs": [],
   "source": [
    "equalized[0]"
   ]
  },
  {
   "cell_type": "code",
   "execution_count": null,
   "metadata": {},
   "outputs": [],
   "source": [
    "contrasted[0]"
   ]
  },
  {
   "cell_type": "markdown",
   "metadata": {},
   "source": [
    "For each sample, the minimal set of computations was run to produce the requested item.\n",
    "We find here that equalization is inappropriate and autocontrast is too weak, let's fix this."
   ]
  },
  {
   "cell_type": "code",
   "execution_count": null,
   "metadata": {},
   "outputs": [],
   "source": [
    "grayscale = seqtools.smap(ImageOps.grayscale, small_images)\n",
    "contrasted = seqtools.smap(lambda im: ImageOps.autocontrast(im, cutoff=3), grayscale)\n",
    "\n",
    "contrasted[0]"
   ]
  },
  {
   "cell_type": "markdown",
   "metadata": {},
   "source": [
    "## Combining datasets\n",
    "\n",
    "Then we want to augment the dataset by flipping:"
   ]
  },
  {
   "cell_type": "code",
   "execution_count": null,
   "metadata": {},
   "outputs": [],
   "source": [
    "# Generate flipped versions of the images\n",
    "flipped = seqtools.smap(ImageOps.mirror, contrasted)\n",
    "\n",
    "# Combine with the original dataset\n",
    "augmented_dataset = seqtools.concatenate([contrasted, flipped])\n",
    "\n",
    "augmented_dataset[-1]"
   ]
  },
  {
   "cell_type": "markdown",
   "metadata": {},
   "source": [
    "## Evaluation\n",
    "\n",
    "Once satisfied with our preprocessing pipeline, evaluating all values is simply done by iterating over the elements or forcing the conversion to a list:"
   ]
  },
  {
   "cell_type": "code",
   "execution_count": null,
   "metadata": {},
   "outputs": [],
   "source": [
    "%time computed_values = list(augmented_dataset);"
   ]
  },
  {
   "cell_type": "markdown",
   "metadata": {},
   "source": [
    "This above evaluation is a bit slow, probably due to the IO operations when loading the images from the hard drive. Maybe using multiple threads could help keep the CPU busy?"
   ]
  },
  {
   "cell_type": "code",
   "execution_count": null,
   "metadata": {},
   "outputs": [],
   "source": [
    "fast_dataset = seqtools.prefetch(augmented_dataset, max_buffered=10, nworkers=2)\n",
    "%time computed_values = list(fast_dataset)"
   ]
  },
  {
   "cell_type": "markdown",
   "metadata": {},
   "source": [
    "The CPU time is the same because the computations are the same (plus some threading overhead), but wall time is cut down because image processing continues for some images while others are being loaded.\n",
    "\n",
    "However, we could spare some IO by not reading the same image a twice when generating the augmented version, and by the same token save some shared transformations.\n",
    "To avoid having one thread taking the regular image and another the flipped one in parallel, which would incur a cache miss for the latter, we propose to simply compute the transformed image and its flipped version in one step:"
   ]
  },
  {
   "cell_type": "code",
   "execution_count": null,
   "metadata": {},
   "outputs": [],
   "source": [
    "regular_and_flipped = seqtools.smap(lambda im: (im, ImageOps.mirror), contrasted)\n",
    "fast_dataset = seqtools.prefetch(regular_and_flipped, max_buffered=10, nworkers=2)"
   ]
  },
  {
   "cell_type": "markdown",
   "metadata": {},
   "source": [
    "The output now contains pairs of images, to flatten them into a sequence of images, we can \"unbatch\" them:"
   ]
  },
  {
   "cell_type": "code",
   "execution_count": null,
   "metadata": {},
   "outputs": [],
   "source": [
    "fast_dataset = seqtools.add_cache(fast_dataset, cache_size=1)\n",
    "flat_dataset = seqtools.unbatch(fast_dataset, batch_size=2)"
   ]
  },
  {
   "cell_type": "markdown",
   "metadata": {},
   "source": [
    "The cache is here to avoid recomputing the pair of images when the second one is accessed, indeed, SeqTools works in a stateless on-demand fashion and recomputes everything by default.\n",
    "\n",
    "Please note that concatenation would be inappropriate to replace unbatching here. Concatenation checks the length of the sequences to join, which requires in this situation to compute each element from `fast_dataset` before-hand. Besides, unbatching has slightly faster access times because it assumes that all batches have the same size."
   ]
  },
  {
   "cell_type": "code",
   "execution_count": null,
   "metadata": {},
   "outputs": [],
   "source": [
    "%time computed_values = list(flat_dataset)"
   ]
  },
  {
   "cell_type": "markdown",
   "metadata": {},
   "source": [
    "CPU time is now cut by half, leaving more room for other processes."
   ]
  },
  {
   "cell_type": "markdown",
   "metadata": {},
   "source": [
    "## Notes\n",
    "\n",
    "SeqTools facilitates the manipulation of sequences and reduces the boilerplate from using multi-threading or multi-processing.\n",
    "However, users must remain conscious of the mechanic under the hood to avoid pitfalls.\n",
    "Here are a few points to keep in mind while programming with this library:\n",
    "\n",
    "- Avoid spurious computations when reading the same element multiple times, maybe use cache.\n",
    "- Check for thread/process under-utilization, avoid having threads waiting for each other or doing redundant work.\n",
    "- Multi-processing has limitations: communication over-head, no shared cache between processes...\n",
    "- Threading has limitations: no more than one thread can execute python code at any given time, concurrency is mostly limited to system IO operations."
   ]
  }
 ],
 "metadata": {
  "kernelspec": {
   "display_name": "Python 3",
   "language": "python",
   "name": "python3"
  },
  "language_info": {
   "codemirror_mode": {
    "name": "ipython",
    "version": 3
   },
   "file_extension": ".py",
   "mimetype": "text/x-python",
   "name": "python",
   "nbconvert_exporter": "python",
   "pygments_lexer": "ipython3",
   "version": "3.7.2"
  }
 },
 "nbformat": 4,
 "nbformat_minor": 2
}
